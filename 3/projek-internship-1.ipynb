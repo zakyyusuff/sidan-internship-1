{
 "cells": [
  {
   "cell_type": "code",
   "execution_count": 11,
   "id": "bebf9186",
   "metadata": {},
   "outputs": [
    {
     "name": "stdout",
     "output_type": "stream",
     "text": [
      "                                                   Teks  label\n",
      "0     [PROMO] Beli paket Flash mulai 1GB di MY TELKO...      2\n",
      "1     2.5 GB/30 hari hanya Rp 35 Ribu Spesial buat A...      2\n",
      "2     2016-07-08 11:47:11.Plg Yth, sisa kuota Flash ...      2\n",
      "3     2016-08-07 11:29:47.Plg Yth, sisa kuota Flash ...      2\n",
      "4     4.5GB/30 hari hanya Rp 55 Ribu Spesial buat an...      2\n",
      "...                                                 ...    ...\n",
      "7167  7) untuk tahu kapan jadwal sidang kamu cukup k...      0\n",
      "7168  contoh: iteung minta jadwal sidang tipe bimbin...      0\n",
      "7169  Sekedar mengingatkan untuk tahun itu formatnya...      0\n",
      "7170                           Contohnya liat di poin 6      0\n",
      "7171                                 To be continued...      0\n",
      "\n",
      "[7172 rows x 2 columns]\n"
     ]
    }
   ],
   "source": [
    "import pandas as pd\n",
    "from collections import Counter\n",
    "import csv\n",
    "# import library yang di butuhkan\n",
    "\n",
    "df = pd.read_csv('test.csv')  #membaca file csv nya \n",
    "teks = []\n",
    "label = []\n",
    "print(df)"
   ]
  },
  {
   "cell_type": "code",
   "execution_count": 12,
   "id": "5eb4d47b",
   "metadata": {},
   "outputs": [],
   "source": [
    "with open('test.csv', newline='', encoding='utf-8') as f:\n",
    "    reader = csv.reader(f)\n",
    "    for row in reader:\n",
    "        teks.append(row[0])\n",
    "        label.append(row[1])  #setelah dokumen dibaca maka akan di append\n",
    "        # Fungsi append ini berguna untuk mMenggabungkan baris teks ke akhir label (jumlah kolom harus sama) "
   ]
  },
  {
   "cell_type": "code",
   "execution_count": 13,
   "id": "b3818e0f",
   "metadata": {},
   "outputs": [
    {
     "data": {
      "text/plain": [
       "Teks     To be continued...\n",
       "label                     0\n",
       "Name: 7171, dtype: object"
      ]
     },
     "execution_count": 13,
     "metadata": {},
     "output_type": "execute_result"
    }
   ],
   "source": [
    "df.iloc[-1, :]\n",
    "\n",
    "# untuk iloc() karena dia akan memilih data berdasarkan index,"
   ]
  },
  {
   "cell_type": "code",
   "execution_count": 14,
   "id": "b70e4c79",
   "metadata": {},
   "outputs": [
    {
     "name": "stdout",
     "output_type": "stream",
     "text": [
      "jumlah data:7173\n",
      "Counter({'Teks': 1, 'label': 1})\n"
     ]
    }
   ],
   "source": [
    "print(\"jumlah data:{}\".format(len(teks)))  #mengidentifikasi dan mengetahui seberapa panjang jumlah item pada objek\n",
    "print(Counter(df.columns))"
   ]
  },
  {
   "cell_type": "code",
   "execution_count": 15,
   "id": "7ac5d213",
   "metadata": {},
   "outputs": [],
   "source": [
    "import nltk\n",
    "from nltk.corpus import stopwords\n",
    "\n",
    "stop_words = set(stopwords.words('english'))\n",
    "teks[-1] = label[-1].format(lambda x: [item for item in x if item not in stop_words])\n",
    "\n",
    "# untuk mengidentifikasi pada kata umum yang biasanya muncul dalam jumlah besar dan dianggap tidak memiliki makna."
   ]
  },
  {
   "cell_type": "code",
   "execution_count": 16,
   "id": "7ae3d6b8",
   "metadata": {},
   "outputs": [
    {
     "name": "stdout",
     "output_type": "stream",
     "text": [
      "nanti\n",
      "ketemu\n",
      "dimana\n",
      "?\n"
     ]
    },
    {
     "name": "stderr",
     "output_type": "stream",
     "text": [
      "[nltk_data] Downloading package punkt to\n",
      "[nltk_data]     C:\\Users\\AKU\\AppData\\Roaming\\nltk_data...\n",
      "[nltk_data]   Package punkt is already up-to-date!\n"
     ]
    }
   ],
   "source": [
    "from nltk.stem import PorterStemmer\n",
    "from nltk.tokenize import sent_tokenize, word_tokenize\n",
    "nltk.download('punkt')\n",
    "\n",
    "data=\"nanti ketemu dimana?\"\n",
    "words = word_tokenize(data)\n",
    "ps = PorterStemmer()\n",
    "for w in words:\n",
    "    rootWord=ps.stem(w)\n",
    "    print(rootWord)\n",
    "\n",
    "# Proses stemming antara satu bahasa dengan bahasa yang lain tentu berbeda. \n",
    "# Contohnya pada teks berbahasa inggris, proses yang diperlukan hanya proses menghilangkan sufiks. \n",
    "# Sedangkan pada teks berbahasa Indonesia semua kata imbuhan baik itu sufiks dan prefiks juga dihilangkan."
   ]
  },
  {
   "cell_type": "code",
   "execution_count": 33,
   "id": "74ab3803",
   "metadata": {},
   "outputs": [
    {
     "name": "stdout",
     "output_type": "stream",
     "text": [
      "Data training:\n",
      "5737\n",
      "Data testing:\n",
      "1435\n"
     ]
    }
   ],
   "source": [
    "import pandas as pd\n",
    "stem_word = pd.read_csv('./test.csv')\n",
    "stem_word = stem_word.sort_values(by=['Teks'])\n",
    "\n",
    "from sklearn.model_selection import train_test_split\n",
    "X_train, X_test, y_train, y_test = train_test_split(stem_word['Teks'], stem_word['label'], test_size=0.2, random_state=111)\n",
    "print(\"Data training:\")\n",
    "print(len(X_train))\n",
    "print(\"Data testing:\")\n",
    "print(len(X_test))\n",
    "\n",
    "# dari kalimat teks yang telah di stim maka akan data akan di latih dengan train test split\n",
    "# Setelah itu, kita bagi dataset menjadi data training dan data test dengan proporsi data test sebesar 20%\n",
    "# lalu akan di pisah mana data hasil dari percobaan ini adalah 5737 data yang di train dan 1435 test"
   ]
  },
  {
   "cell_type": "code",
   "execution_count": 35,
   "id": "aac92648",
   "metadata": {},
   "outputs": [
    {
     "data": {
      "text/html": [
       "<style>#sk-container-id-3 {color: black;background-color: white;}#sk-container-id-3 pre{padding: 0;}#sk-container-id-3 div.sk-toggleable {background-color: white;}#sk-container-id-3 label.sk-toggleable__label {cursor: pointer;display: block;width: 100%;margin-bottom: 0;padding: 0.3em;box-sizing: border-box;text-align: center;}#sk-container-id-3 label.sk-toggleable__label-arrow:before {content: \"▸\";float: left;margin-right: 0.25em;color: #696969;}#sk-container-id-3 label.sk-toggleable__label-arrow:hover:before {color: black;}#sk-container-id-3 div.sk-estimator:hover label.sk-toggleable__label-arrow:before {color: black;}#sk-container-id-3 div.sk-toggleable__content {max-height: 0;max-width: 0;overflow: hidden;text-align: left;background-color: #f0f8ff;}#sk-container-id-3 div.sk-toggleable__content pre {margin: 0.2em;color: black;border-radius: 0.25em;background-color: #f0f8ff;}#sk-container-id-3 input.sk-toggleable__control:checked~div.sk-toggleable__content {max-height: 200px;max-width: 100%;overflow: auto;}#sk-container-id-3 input.sk-toggleable__control:checked~label.sk-toggleable__label-arrow:before {content: \"▾\";}#sk-container-id-3 div.sk-estimator input.sk-toggleable__control:checked~label.sk-toggleable__label {background-color: #d4ebff;}#sk-container-id-3 div.sk-label input.sk-toggleable__control:checked~label.sk-toggleable__label {background-color: #d4ebff;}#sk-container-id-3 input.sk-hidden--visually {border: 0;clip: rect(1px 1px 1px 1px);clip: rect(1px, 1px, 1px, 1px);height: 1px;margin: -1px;overflow: hidden;padding: 0;position: absolute;width: 1px;}#sk-container-id-3 div.sk-estimator {font-family: monospace;background-color: #f0f8ff;border: 1px dotted black;border-radius: 0.25em;box-sizing: border-box;margin-bottom: 0.5em;}#sk-container-id-3 div.sk-estimator:hover {background-color: #d4ebff;}#sk-container-id-3 div.sk-parallel-item::after {content: \"\";width: 100%;border-bottom: 1px solid gray;flex-grow: 1;}#sk-container-id-3 div.sk-label:hover label.sk-toggleable__label {background-color: #d4ebff;}#sk-container-id-3 div.sk-serial::before {content: \"\";position: absolute;border-left: 1px solid gray;box-sizing: border-box;top: 0;bottom: 0;left: 50%;z-index: 0;}#sk-container-id-3 div.sk-serial {display: flex;flex-direction: column;align-items: center;background-color: white;padding-right: 0.2em;padding-left: 0.2em;position: relative;}#sk-container-id-3 div.sk-item {position: relative;z-index: 1;}#sk-container-id-3 div.sk-parallel {display: flex;align-items: stretch;justify-content: center;background-color: white;position: relative;}#sk-container-id-3 div.sk-item::before, #sk-container-id-3 div.sk-parallel-item::before {content: \"\";position: absolute;border-left: 1px solid gray;box-sizing: border-box;top: 0;bottom: 0;left: 50%;z-index: -1;}#sk-container-id-3 div.sk-parallel-item {display: flex;flex-direction: column;z-index: 1;position: relative;background-color: white;}#sk-container-id-3 div.sk-parallel-item:first-child::after {align-self: flex-end;width: 50%;}#sk-container-id-3 div.sk-parallel-item:last-child::after {align-self: flex-start;width: 50%;}#sk-container-id-3 div.sk-parallel-item:only-child::after {width: 0;}#sk-container-id-3 div.sk-dashed-wrapped {border: 1px dashed gray;margin: 0 0.4em 0.5em 0.4em;box-sizing: border-box;padding-bottom: 0.4em;background-color: white;}#sk-container-id-3 div.sk-label label {font-family: monospace;font-weight: bold;display: inline-block;line-height: 1.2em;}#sk-container-id-3 div.sk-label-container {text-align: center;}#sk-container-id-3 div.sk-container {/* jupyter's `normalize.less` sets `[hidden] { display: none; }` but bootstrap.min.css set `[hidden] { display: none !important; }` so we also need the `!important` here to be able to override the default hidden behavior on the sphinx rendered scikit-learn.org. See: https://github.com/scikit-learn/scikit-learn/issues/21755 */display: inline-block !important;position: relative;}#sk-container-id-3 div.sk-text-repr-fallback {display: none;}</style><div id=\"sk-container-id-3\" class=\"sk-top-container\"><div class=\"sk-text-repr-fallback\"><pre>Pipeline(steps=[(&#x27;vect&#x27;, CountVectorizer()), (&#x27;tfidf&#x27;, TfidfTransformer()),\n",
       "                (&#x27;clf&#x27;, MultinomialNB())])</pre><b>In a Jupyter environment, please rerun this cell to show the HTML representation or trust the notebook. <br />On GitHub, the HTML representation is unable to render, please try loading this page with nbviewer.org.</b></div><div class=\"sk-container\" hidden><div class=\"sk-item sk-dashed-wrapped\"><div class=\"sk-label-container\"><div class=\"sk-label sk-toggleable\"><input class=\"sk-toggleable__control sk-hidden--visually\" id=\"sk-estimator-id-9\" type=\"checkbox\" ><label for=\"sk-estimator-id-9\" class=\"sk-toggleable__label sk-toggleable__label-arrow\">Pipeline</label><div class=\"sk-toggleable__content\"><pre>Pipeline(steps=[(&#x27;vect&#x27;, CountVectorizer()), (&#x27;tfidf&#x27;, TfidfTransformer()),\n",
       "                (&#x27;clf&#x27;, MultinomialNB())])</pre></div></div></div><div class=\"sk-serial\"><div class=\"sk-item\"><div class=\"sk-estimator sk-toggleable\"><input class=\"sk-toggleable__control sk-hidden--visually\" id=\"sk-estimator-id-10\" type=\"checkbox\" ><label for=\"sk-estimator-id-10\" class=\"sk-toggleable__label sk-toggleable__label-arrow\">CountVectorizer</label><div class=\"sk-toggleable__content\"><pre>CountVectorizer()</pre></div></div></div><div class=\"sk-item\"><div class=\"sk-estimator sk-toggleable\"><input class=\"sk-toggleable__control sk-hidden--visually\" id=\"sk-estimator-id-11\" type=\"checkbox\" ><label for=\"sk-estimator-id-11\" class=\"sk-toggleable__label sk-toggleable__label-arrow\">TfidfTransformer</label><div class=\"sk-toggleable__content\"><pre>TfidfTransformer()</pre></div></div></div><div class=\"sk-item\"><div class=\"sk-estimator sk-toggleable\"><input class=\"sk-toggleable__control sk-hidden--visually\" id=\"sk-estimator-id-12\" type=\"checkbox\" ><label for=\"sk-estimator-id-12\" class=\"sk-toggleable__label sk-toggleable__label-arrow\">MultinomialNB</label><div class=\"sk-toggleable__content\"><pre>MultinomialNB()</pre></div></div></div></div></div></div></div>"
      ],
      "text/plain": [
       "Pipeline(steps=[('vect', CountVectorizer()), ('tfidf', TfidfTransformer()),\n",
       "                ('clf', MultinomialNB())])"
      ]
     },
     "execution_count": 35,
     "metadata": {},
     "output_type": "execute_result"
    }
   ],
   "source": [
    "from sklearn.pipeline import Pipeline\n",
    "from sklearn.feature_extraction.text import CountVectorizer\n",
    "from sklearn.feature_extraction.text import TfidfTransformer\n",
    "from sklearn.naive_bayes import MultinomialNB\n",
    "text_clf = Pipeline([('vect', CountVectorizer()),\n",
    "('tfidf', TfidfTransformer()),\n",
    "('clf', MultinomialNB())])\n",
    "text_clf.fit(X_train, y_train)\n",
    "\n",
    "# Langkah selanjutnya adalah menggunakan pipeline untuk \n",
    "# menyatukan proses penyederhanaan data (ekstrak teks dan normalisasi data) dengan prediksi sentimen. \n",
    "# Caranya adalah menggunakan TfidfTransformer untuk mengubah suatu operasi menjadi fungsi python\n",
    "\n",
    "# dan untuk countvectorizer berfungsi untuk menghitung frekuensi kata yang muncul pada\n",
    "# kalimat dikalikan dengan frekuensi dokumen yang terdapat suatu kata yaitu tf-idf\n",
    "\n",
    "# Berdasarkan hasil penelitian tersebut dapat\n",
    "# disimpulkan bahwa menggunakan metode\n",
    "# Naive Bayes Classification sangat tepat untuk\n",
    "# digunakan dalam pengklasifikasian pesan teks\n",
    "# pada SMS"
   ]
  },
  {
   "cell_type": "code",
   "execution_count": 36,
   "id": "f8638129",
   "metadata": {},
   "outputs": [
    {
     "name": "stdout",
     "output_type": "stream",
     "text": [
      "Counter({0: 3212, 1: 2334, 2: 191})\n",
      "Counter({0: 792, 1: 595, 2: 48})\n"
     ]
    }
   ],
   "source": [
    "print(Counter(y_train))\n",
    "\n",
    "print(Counter(y_test))\n",
    "\n",
    "# funsi counter pada baris ini untuk melihat hasil pembagian pada jumlah data yang di latih dan juga di test"
   ]
  },
  {
   "cell_type": "code",
   "execution_count": 37,
   "id": "2006927e",
   "metadata": {},
   "outputs": [
    {
     "name": "stdout",
     "output_type": "stream",
     "text": [
      "Hasil prediksi [1 0]\n"
     ]
    }
   ],
   "source": [
    "sms_baru = ['Anda mendapatkan hadiah mobil','nanti ketemu dimana?']\n",
    "pred = text_clf.predict(sms_baru)\n",
    "print(\"Hasil prediksi {}\".format(pred))"
   ]
  },
  {
   "cell_type": "code",
   "execution_count": 38,
   "id": "f1108cb7",
   "metadata": {},
   "outputs": [
    {
     "name": "stdout",
     "output_type": "stream",
     "text": [
      "Hasil prediksi [2]\n"
     ]
    }
   ],
   "source": [
    "sms_baru = ['Buruan, cek  di tsel.me/mytsel1 S&K']\n",
    "pred = text_clf.predict(sms_baru)\n",
    "print(\"Hasil prediksi {}\".format(pred))"
   ]
  },
  {
   "cell_type": "code",
   "execution_count": 39,
   "id": "9f9eafd7",
   "metadata": {},
   "outputs": [
    {
     "name": "stdout",
     "output_type": "stream",
     "text": [
      "Hasil prediksi [1]\n"
     ]
    }
   ],
   "source": [
    "sms_baru = ['Anda mendapatkan hadiah mobil']\n",
    "pred = text_clf.predict(sms_baru)\n",
    "print(\"Hasil prediksi {}\".format(pred))"
   ]
  },
  {
   "cell_type": "code",
   "execution_count": 40,
   "id": "c6c865c5",
   "metadata": {},
   "outputs": [
    {
     "name": "stdout",
     "output_type": "stream",
     "text": [
      "Hasil prediksi [0]\n"
     ]
    }
   ],
   "source": [
    "sms_baru = ['nanti ketemu dimana?']\n",
    "pred = text_clf.predict(sms_baru)\n",
    "print(\"Hasil prediksi {}\".format(pred))"
   ]
  },
  {
   "cell_type": "code",
   "execution_count": 41,
   "id": "6936840f",
   "metadata": {},
   "outputs": [
    {
     "name": "stdout",
     "output_type": "stream",
     "text": [
      "Hasil prediksi [1]\n"
     ]
    }
   ],
   "source": [
    "sms_baru = ['Tipe bimbingan tidak ada pada keyword nih...']\n",
    "pred = text_clf.predict(sms_baru)\n",
    "print(\"Hasil prediksi {}\".format(pred))"
   ]
  },
  {
   "cell_type": "code",
   "execution_count": 44,
   "id": "051278d1",
   "metadata": {},
   "outputs": [
    {
     "name": "stdout",
     "output_type": "stream",
     "text": [
      "Hasil prediksi [0]\n"
     ]
    }
   ],
   "source": [
    "sms_baru = ['iteung panduan mahasiswa kelas']\n",
    "pred = text_clf.predict(sms_baru)\n",
    "print(\"Hasil prediksi {}\".format(pred))"
   ]
  },
  {
   "cell_type": "code",
   "execution_count": 42,
   "id": "b92bf841",
   "metadata": {},
   "outputs": [
    {
     "name": "stdout",
     "output_type": "stream",
     "text": [
      "Akurasi: 0.9790940766550522\n"
     ]
    }
   ],
   "source": [
    "import numpy as np\n",
    "pred = text_clf.predict(X_test)\n",
    "akurasi = np.mean(pred==y_test)\n",
    "print(\"Akurasi: {}\".format(akurasi))\n",
    "\n",
    "# disini terdapat hasil prediksi dari hasil pengkodean pada program di atas"
   ]
  },
  {
   "cell_type": "code",
   "execution_count": 43,
   "id": "20272de9",
   "metadata": {},
   "outputs": [
    {
     "data": {
      "image/png": "[encoded data removed]",
      "text/plain": [
       "<Figure size 640x480 with 1 Axes>"
      ]
     },
     "metadata": {},
     "output_type": "display_data"
    }
   ],
   "source": [
    "import matplotlib.pyplot as plt\n",
    "\n",
    "labels = ['Test', 'Train']\n",
    "quantity = [1435, 5737]\n",
    "colors = ['yellowgreen', 'gold']\n",
    "\n",
    "plt.title('Test vs Train ')\n",
    "plt.pie(quantity, labels=labels, colors=colors, autopct='%1.1f%%', shadow=True, startangle=90)\n",
    "plt.show()\n",
    "\n",
    "# dan ini lah persentase dari hasi nya"
   ]
  },
  {
   "cell_type": "code",
   "execution_count": null,
   "id": "e1c847b5",
   "metadata": {},
   "outputs": [],
   "source": []
  }
 ],
 "metadata": {
  "kernelspec": {
   "display_name": "Python 3 (ipykernel)",
   "language": "python",
   "name": "python3"
  },
  "language_info": {
   "codemirror_mode": {
    "name": "ipython",
    "version": 3
   },
   "file_extension": ".py",
   "mimetype": "text/x-python",
   "name": "python",
   "nbconvert_exporter": "python",
   "pygments_lexer": "ipython3",
   "version": "3.10.8"
  }
 },
 "nbformat": 4,
 "nbformat_minor": 5
}
