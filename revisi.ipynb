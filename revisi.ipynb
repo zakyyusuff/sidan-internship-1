{
 "cells": [
  {
   "cell_type": "code",
   "execution_count": 41,
   "id": "b4811dfa",
   "metadata": {},
   "outputs": [
    {
     "name": "stdout",
     "output_type": "stream",
     "text": [
      "                                                   Teks  label\n",
      "0     [PROMO] Beli paket Flash mulai 1GB di MY TELKO...      1\n",
      "1     2.5 GB/30 hari hanya Rp 35 Ribu Spesial buat A...      1\n",
      "2     2016-07-08 11:47:11.Plg Yth, sisa kuota Flash ...      1\n",
      "3     2016-08-07 11:29:47.Plg Yth, sisa kuota Flash ...      1\n",
      "4     4.5GB/30 hari hanya Rp 55 Ribu Spesial buat an...      1\n",
      "...                                                 ...    ...\n",
      "7231  7) untuk tahu kapan jadwal sidang kamu cukup k...      1\n",
      "7232  contoh: iteung minta jadwal sidang tipe bimbin...      1\n",
      "7233  Sekedar mengingatkan untuk tahun itu formatnya...      1\n",
      "7234                           Contohnya liat di poin 6      1\n",
      "7235                                 To be continued...      1\n",
      "\n",
      "[7236 rows x 2 columns]\n"
     ]
    }
   ],
   "source": [
    "import pandas as pd\n",
    "from collections import Counter\n",
    "import csv\n",
    "# import library yang di butuhkan\n",
    "\n",
    "df = pd.read_csv('test-revisi.csv', on_bad_lines='skip')  #membaca file csv nya \n",
    "text = []\n",
    "label = []\n",
    "print(df)"
   ]
  },
  {
   "cell_type": "code",
   "execution_count": 42,
   "id": "4b85eb1e",
   "metadata": {},
   "outputs": [],
   "source": [
    "with open('test-revisi.csv', newline='', encoding='utf-8') as f:\n",
    "    reader = csv.reader(f)\n",
    "    for row in reader:\n",
    "        text.append(row[0])\n",
    "        label.append(row[0]) "
   ]
  },
  {
   "cell_type": "code",
   "execution_count": 43,
   "id": "dc82dcaf",
   "metadata": {},
   "outputs": [],
   "source": [
    "# import re\n",
    "\n",
    "# def casefolding(text):\n",
    "#     text = text.lower() # merubah bentuk menjadi lower case\n",
    "#     text = re.sub(r'\\d+', '', text) # menghapus angka\n",
    "#     text = re.sub(r'[^\\w\\s]','',text) # menghapus karakter tanda baca\n",
    "#     text = text.strip()\n",
    "#     return text\n",
    "# key_norm = pd.read_csv('test-revisi.csv', on_bad_lines='skip')\n",
    "\n",
    "# def text_normalize(text):\n",
    "#     text = ' '.join([key_norm[key_norm['halo'] == word]['hasil'].values[0] if (key_norm[\"singkat\"] == word).any() else word for word in text.split()])\n",
    "#     text = str.lower(text)\n",
    "#     return text"
   ]
  },
  {
   "cell_type": "code",
   "execution_count": 44,
   "id": "181a7d9f",
   "metadata": {
    "scrolled": true
   },
   "outputs": [],
   "source": [
    "# referensi labeling gagal\n",
    "\n",
    "# from tortus import Tortus\n",
    "# tortus = Tortus(df, id_column=10, annotations=None, random=True, labels=['a', 'b', 'c'])"
   ]
  },
  {
   "cell_type": "code",
   "execution_count": 45,
   "id": "96371133",
   "metadata": {},
   "outputs": [
    {
     "name": "stdout",
     "output_type": "stream",
     "text": [
      "jumlah data:7237\n",
      "Counter({'Teks': 1, 'label': 1})\n"
     ]
    }
   ],
   "source": [
    "print(\"jumlah data:{}\".format(len(text)))  #mengidentifikasi dan mengetahui seberapa panjang jumlah item pada objek\n",
    "print(Counter(df.columns))"
   ]
  },
  {
   "cell_type": "code",
   "execution_count": 46,
   "id": "79368071",
   "metadata": {},
   "outputs": [],
   "source": [
    "# nltk stopword\n",
    "\n",
    "import nltk\n",
    "from nltk.corpus import stopwords\n",
    "\n",
    "stop_words = set(stopwords.words('english'))\n",
    "text[-1] = label[-1].format(lambda x: [item for item in x if item not in stop_words])"
   ]
  },
  {
   "cell_type": "code",
   "execution_count": 47,
   "id": "d8847bdd",
   "metadata": {},
   "outputs": [
    {
     "name": "stdout",
     "output_type": "stream",
     "text": [
      "nanti\n",
      "ketemu\n",
      "dimana\n",
      "?\n"
     ]
    },
    {
     "name": "stderr",
     "output_type": "stream",
     "text": [
      "[nltk_data] Downloading package punkt to\n",
      "[nltk_data]     C:\\Users\\AKU\\AppData\\Roaming\\nltk_data...\n",
      "[nltk_data]   Package punkt is already up-to-date!\n"
     ]
    }
   ],
   "source": [
    "# stem\n",
    "\n",
    "from nltk.stem import PorterStemmer\n",
    "from nltk.tokenize import sent_tokenize, word_tokenize\n",
    "nltk.download('punkt')\n",
    "\n",
    "data=\"nanti ketemu dimana?\"\n",
    "# data = pd.read_csv('test-copy.csv')\n",
    "words = word_tokenize(data)\n",
    "ps = PorterStemmer()\n",
    "for w in words:\n",
    "    rootWord=ps.stem(w)\n",
    "    print(rootWord)"
   ]
  },
  {
   "cell_type": "code",
   "execution_count": 52,
   "id": "07b1a48b",
   "metadata": {},
   "outputs": [
    {
     "name": "stdout",
     "output_type": "stream",
     "text": [
      "Data training:\n",
      "5788\n",
      "Data testing:\n",
      "1448\n"
     ]
    }
   ],
   "source": [
    "import pandas as pd\n",
    "stem_word = pd.read_csv('test-revisi.csv', on_bad_lines='skip')\n",
    "stem_word = stem_word.sort_values(by=['Teks'])\n",
    "\n",
    "from sklearn.model_selection import train_test_split\n",
    "X_train, X_test, y_train, y_test = train_test_split(stem_word['Teks'], stem_word['label'], test_size=0.2, random_state=111)\n",
    "\n",
    "\n",
    "\n",
    "print(\"Data training:\")\n",
    "print(len(X_train))\n",
    "#\n",
    "print(\"Data testing:\")\n",
    "print(len(X_test))"
   ]
  },
  {
   "cell_type": "code",
   "execution_count": 53,
   "id": "edec1548",
   "metadata": {},
   "outputs": [
    {
     "data": {
      "text/html": [
       "<style>#sk-container-id-7 {color: black;background-color: white;}#sk-container-id-7 pre{padding: 0;}#sk-container-id-7 div.sk-toggleable {background-color: white;}#sk-container-id-7 label.sk-toggleable__label {cursor: pointer;display: block;width: 100%;margin-bottom: 0;padding: 0.3em;box-sizing: border-box;text-align: center;}#sk-container-id-7 label.sk-toggleable__label-arrow:before {content: \"▸\";float: left;margin-right: 0.25em;color: #696969;}#sk-container-id-7 label.sk-toggleable__label-arrow:hover:before {color: black;}#sk-container-id-7 div.sk-estimator:hover label.sk-toggleable__label-arrow:before {color: black;}#sk-container-id-7 div.sk-toggleable__content {max-height: 0;max-width: 0;overflow: hidden;text-align: left;background-color: #f0f8ff;}#sk-container-id-7 div.sk-toggleable__content pre {margin: 0.2em;color: black;border-radius: 0.25em;background-color: #f0f8ff;}#sk-container-id-7 input.sk-toggleable__control:checked~div.sk-toggleable__content {max-height: 200px;max-width: 100%;overflow: auto;}#sk-container-id-7 input.sk-toggleable__control:checked~label.sk-toggleable__label-arrow:before {content: \"▾\";}#sk-container-id-7 div.sk-estimator input.sk-toggleable__control:checked~label.sk-toggleable__label {background-color: #d4ebff;}#sk-container-id-7 div.sk-label input.sk-toggleable__control:checked~label.sk-toggleable__label {background-color: #d4ebff;}#sk-container-id-7 input.sk-hidden--visually {border: 0;clip: rect(1px 1px 1px 1px);clip: rect(1px, 1px, 1px, 1px);height: 1px;margin: -1px;overflow: hidden;padding: 0;position: absolute;width: 1px;}#sk-container-id-7 div.sk-estimator {font-family: monospace;background-color: #f0f8ff;border: 1px dotted black;border-radius: 0.25em;box-sizing: border-box;margin-bottom: 0.5em;}#sk-container-id-7 div.sk-estimator:hover {background-color: #d4ebff;}#sk-container-id-7 div.sk-parallel-item::after {content: \"\";width: 100%;border-bottom: 1px solid gray;flex-grow: 1;}#sk-container-id-7 div.sk-label:hover label.sk-toggleable__label {background-color: #d4ebff;}#sk-container-id-7 div.sk-serial::before {content: \"\";position: absolute;border-left: 1px solid gray;box-sizing: border-box;top: 0;bottom: 0;left: 50%;z-index: 0;}#sk-container-id-7 div.sk-serial {display: flex;flex-direction: column;align-items: center;background-color: white;padding-right: 0.2em;padding-left: 0.2em;position: relative;}#sk-container-id-7 div.sk-item {position: relative;z-index: 1;}#sk-container-id-7 div.sk-parallel {display: flex;align-items: stretch;justify-content: center;background-color: white;position: relative;}#sk-container-id-7 div.sk-item::before, #sk-container-id-7 div.sk-parallel-item::before {content: \"\";position: absolute;border-left: 1px solid gray;box-sizing: border-box;top: 0;bottom: 0;left: 50%;z-index: -1;}#sk-container-id-7 div.sk-parallel-item {display: flex;flex-direction: column;z-index: 1;position: relative;background-color: white;}#sk-container-id-7 div.sk-parallel-item:first-child::after {align-self: flex-end;width: 50%;}#sk-container-id-7 div.sk-parallel-item:last-child::after {align-self: flex-start;width: 50%;}#sk-container-id-7 div.sk-parallel-item:only-child::after {width: 0;}#sk-container-id-7 div.sk-dashed-wrapped {border: 1px dashed gray;margin: 0 0.4em 0.5em 0.4em;box-sizing: border-box;padding-bottom: 0.4em;background-color: white;}#sk-container-id-7 div.sk-label label {font-family: monospace;font-weight: bold;display: inline-block;line-height: 1.2em;}#sk-container-id-7 div.sk-label-container {text-align: center;}#sk-container-id-7 div.sk-container {/* jupyter's `normalize.less` sets `[hidden] { display: none; }` but bootstrap.min.css set `[hidden] { display: none !important; }` so we also need the `!important` here to be able to override the default hidden behavior on the sphinx rendered scikit-learn.org. See: https://github.com/scikit-learn/scikit-learn/issues/21755 */display: inline-block !important;position: relative;}#sk-container-id-7 div.sk-text-repr-fallback {display: none;}</style><div id=\"sk-container-id-7\" class=\"sk-top-container\"><div class=\"sk-text-repr-fallback\"><pre>Pipeline(steps=[(&#x27;vect&#x27;, CountVectorizer()), (&#x27;tfidf&#x27;, TfidfTransformer()),\n",
       "                (&#x27;clf&#x27;, MultinomialNB())])</pre><b>In a Jupyter environment, please rerun this cell to show the HTML representation or trust the notebook. <br />On GitHub, the HTML representation is unable to render, please try loading this page with nbviewer.org.</b></div><div class=\"sk-container\" hidden><div class=\"sk-item sk-dashed-wrapped\"><div class=\"sk-label-container\"><div class=\"sk-label sk-toggleable\"><input class=\"sk-toggleable__control sk-hidden--visually\" id=\"sk-estimator-id-25\" type=\"checkbox\" ><label for=\"sk-estimator-id-25\" class=\"sk-toggleable__label sk-toggleable__label-arrow\">Pipeline</label><div class=\"sk-toggleable__content\"><pre>Pipeline(steps=[(&#x27;vect&#x27;, CountVectorizer()), (&#x27;tfidf&#x27;, TfidfTransformer()),\n",
       "                (&#x27;clf&#x27;, MultinomialNB())])</pre></div></div></div><div class=\"sk-serial\"><div class=\"sk-item\"><div class=\"sk-estimator sk-toggleable\"><input class=\"sk-toggleable__control sk-hidden--visually\" id=\"sk-estimator-id-26\" type=\"checkbox\" ><label for=\"sk-estimator-id-26\" class=\"sk-toggleable__label sk-toggleable__label-arrow\">CountVectorizer</label><div class=\"sk-toggleable__content\"><pre>CountVectorizer()</pre></div></div></div><div class=\"sk-item\"><div class=\"sk-estimator sk-toggleable\"><input class=\"sk-toggleable__control sk-hidden--visually\" id=\"sk-estimator-id-27\" type=\"checkbox\" ><label for=\"sk-estimator-id-27\" class=\"sk-toggleable__label sk-toggleable__label-arrow\">TfidfTransformer</label><div class=\"sk-toggleable__content\"><pre>TfidfTransformer()</pre></div></div></div><div class=\"sk-item\"><div class=\"sk-estimator sk-toggleable\"><input class=\"sk-toggleable__control sk-hidden--visually\" id=\"sk-estimator-id-28\" type=\"checkbox\" ><label for=\"sk-estimator-id-28\" class=\"sk-toggleable__label sk-toggleable__label-arrow\">MultinomialNB</label><div class=\"sk-toggleable__content\"><pre>MultinomialNB()</pre></div></div></div></div></div></div></div>"
      ],
      "text/plain": [
       "Pipeline(steps=[('vect', CountVectorizer()), ('tfidf', TfidfTransformer()),\n",
       "                ('clf', MultinomialNB())])"
      ]
     },
     "execution_count": 53,
     "metadata": {},
     "output_type": "execute_result"
    }
   ],
   "source": [
    "from sklearn.pipeline import Pipeline\n",
    "from sklearn.feature_extraction.text import CountVectorizer\n",
    "from sklearn.feature_extraction.text import TfidfTransformer\n",
    "from sklearn.naive_bayes import MultinomialNB\n",
    "text_clf = Pipeline([('vect', CountVectorizer()), ('tfidf', TfidfTransformer()), ('clf', MultinomialNB())])\n",
    "\n",
    "text_clf.fit(X_train, y_train)"
   ]
  },
  {
   "cell_type": "code",
   "execution_count": 54,
   "id": "2296c993",
   "metadata": {},
   "outputs": [
    {
     "name": "stdout",
     "output_type": "stream",
     "text": [
      "Akurasi: 1.0\n"
     ]
    }
   ],
   "source": [
    "import numpy as np\n",
    "pred = text_clf.predict(X_test)\n",
    "akurasi = np.mean(pred==y_test)\n",
    "print(\"Akurasi: {}\".format(akurasi))"
   ]
  },
  {
   "cell_type": "code",
   "execution_count": 55,
   "id": "26cb8e7f",
   "metadata": {},
   "outputs": [
    {
     "name": "stdout",
     "output_type": "stream",
     "text": [
      "Hasil prediksi [1]\n"
     ]
    }
   ],
   "source": [
    "sms_baru = ['silahkan transfer']\n",
    "pred = text_clf.predict(sms_baru)\n",
    "print(\"Hasil prediksi {}\".format(pred))"
   ]
  },
  {
   "cell_type": "code",
   "execution_count": null,
   "id": "e79f1f4d",
   "metadata": {},
   "outputs": [],
   "source": []
  }
 ],
 "metadata": {
  "kernelspec": {
   "display_name": "Python 3 (ipykernel)",
   "language": "python",
   "name": "python3"
  },
  "language_info": {
   "codemirror_mode": {
    "name": "ipython",
    "version": 3
   },
   "file_extension": ".py",
   "mimetype": "text/x-python",
   "name": "python",
   "nbconvert_exporter": "python",
   "pygments_lexer": "ipython3",
   "version": "3.10.8"
  }
 },
 "nbformat": 4,
 "nbformat_minor": 5
}
